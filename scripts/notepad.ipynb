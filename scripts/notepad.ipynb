{
 "cells": [
  {
   "cell_type": "code",
   "execution_count": 1,
   "id": "dd92e98a",
   "metadata": {},
   "outputs": [],
   "source": [
    "%display latex\n",
    "γ1 = var('γ1', latex_name = \"\\\\gamma_1\")\n",
    "γ2 = var('γ2', latex_name = \"\\\\gamma_2\")\n",
    "u1 = var('u1', latex_name = \"u_1\")\n",
    "u2 = var('u2', latex_name = \"u_2\")\n",
    "n1 = var('n1', latex_name = \"n_1\")\n",
    "n2 = var('n2', latex_name = \"n_2\")\n",
    "P1 = var('P1', latex_name = \"P_1\")\n",
    "P2 = var('P2', latex_name = \"P_2\")\n",
    "ϵ1 = var('ϵ1', latex_name = \"\\\\epsilon_1\")\n",
    "ϵ2 = var('ϵ2', latex_name = \"\\\\epsilon_2\")\n",
    "\n",
    "γ1 = 1/sqrt(1 - u1**2)\n",
    "γ2 = 1/sqrt(1 - u2**2)"
   ]
  },
  {
   "cell_type": "code",
   "execution_count": 2,
   "id": "aaa7b4d0",
   "metadata": {},
   "outputs": [
    {
     "data": {
      "text/html": [
       "<html>\\(\\displaystyle \\left[\\frac{{n_1} {u_1}}{\\sqrt{-{u_1}^{2} + 1}} = \\frac{{n_2} {u_2}}{\\sqrt{-{u_2}^{2} + 1}}, -\\frac{{\\left({P_1} + {\\epsilon_1}\\right)} {u_1}^{2}}{{u_1}^{2} - 1} + {P_1} = -\\frac{{\\left({P_2} + {\\epsilon_2}\\right)} {u_2}^{2}}{{u_2}^{2} - 1} + {P_2}, -\\frac{{\\left({P_1} + {\\epsilon_1}\\right)} {u_1}}{{u_1}^{2} - 1} = -\\frac{{\\left({P_2} + {\\epsilon_2}\\right)} {u_2}}{{u_2}^{2} - 1}\\right]\\)</html>"
      ],
      "text/latex": [
       "$\\displaystyle \\left[\\frac{{n_1} {u_1}}{\\sqrt{-{u_1}^{2} + 1}} = \\frac{{n_2} {u_2}}{\\sqrt{-{u_2}^{2} + 1}}, -\\frac{{\\left({P_1} + {\\epsilon_1}\\right)} {u_1}^{2}}{{u_1}^{2} - 1} + {P_1} = -\\frac{{\\left({P_2} + {\\epsilon_2}\\right)} {u_2}^{2}}{{u_2}^{2} - 1} + {P_2}, -\\frac{{\\left({P_1} + {\\epsilon_1}\\right)} {u_1}}{{u_1}^{2} - 1} = -\\frac{{\\left({P_2} + {\\epsilon_2}\\right)} {u_2}}{{u_2}^{2} - 1}\\right]$"
      ],
      "text/plain": [
       "[n1*u1/sqrt(-u1^2 + 1) == n2*u2/sqrt(-u2^2 + 1),\n",
       " -(P1 + ϵ1)*u1^2/(u1^2 - 1) + P1 == -(P2 + ϵ2)*u2^2/(u2^2 - 1) + P2,\n",
       " -(P1 + ϵ1)*u1/(u1^2 - 1) == -(P2 + ϵ2)*u2/(u2^2 - 1)]"
      ]
     },
     "metadata": {},
     "output_type": "display_data"
    }
   ],
   "source": [
    "equations = [\n",
    "    n1*γ1*u1 == n2*γ2*u2, \n",
    "    (ϵ1 + P1)*(γ1**2)*(u1**2) + P1 == (ϵ2 + P2)*(γ2**2)*(u2**2) + P2,\n",
    "    (ϵ1 + P1)*(γ1**2)*u1 == (ϵ2 + P2)*(γ2**2)*u2\n",
    "]\n",
    "display(equations)"
   ]
  },
  {
   "cell_type": "code",
   "execution_count": 4,
   "id": "89052a5f",
   "metadata": {},
   "outputs": [],
   "source": [
    "#solve(equations, u1, u2)"
   ]
  },
  {
   "cell_type": "markdown",
   "id": "87f72bb8",
   "metadata": {},
   "source": [
    "# Rotations\n"
   ]
  },
  {
   "cell_type": "code",
   "execution_count": 21,
   "id": "bf0af042",
   "metadata": {},
   "outputs": [
    {
     "data": {
      "text/html": [
       "<html>\\(\\displaystyle \\left(\\sin\\left(θ\\right),\\,0,\\,\\cos\\left(θ\\right)\\right)\\)</html>"
      ],
      "text/latex": [
       "$\\displaystyle \\left(\\sin\\left(θ\\right),\\,0,\\,\\cos\\left(θ\\right)\\right)$"
      ],
      "text/plain": [
       "(sin(θ), 0, cos(θ))"
      ]
     },
     "execution_count": 21,
     "metadata": {},
     "output_type": "execute_result"
    }
   ],
   "source": [
    "θ = var('θ')\n",
    "Ry = Matrix([\n",
    "    [cos(θ), 0, sin(θ)],\n",
    "    [0, 1, 0],\n",
    "    [-sin(θ), 0, cos(θ)]\n",
    "])\n",
    "ϕ = var('ϕ')\n",
    "Rz = Matrix([\n",
    "    [cos(ϕ), -sin(ϕ), 0],\n",
    "    [sin(ϕ), cos(ϕ), 0],\n",
    "    [0, 0, 1]\n",
    "])\n",
    "z_hat = vector([0, 0, 1])\n",
    "Ry*Rz*z_hat"
   ]
  },
  {
   "cell_type": "code",
   "execution_count": 37,
   "id": "535b2835",
   "metadata": {},
   "outputs": [],
   "source": [
    "def R_y(α):\n",
    "    ca = cos(α)\n",
    "    sa = sin(α)\n",
    "    R = Matrix([\n",
    "        [ca, 0, sa],\n",
    "        [0, 1, 0],\n",
    "        [-sa, 0, ca]\n",
    "    ])\n",
    "    return R\n",
    "\n",
    "\n",
    "def R_z(β):\n",
    "    ca = cos(β)\n",
    "    sa = sin(β)\n",
    "    R = Matrix([\n",
    "        [ca, -sa, 0],\n",
    "        [sa, ca, 0],\n",
    "        [0, 0, 1]\n",
    "    ])\n",
    "    return R\n",
    "\n",
    "\n",
    "def R_y2(ca, sa):\n",
    "    R = Matrix([\n",
    "        [ca, 0, sa],\n",
    "        [0, 1, 0],\n",
    "        [-sa, 0, ca]\n",
    "    ])\n",
    "    return R\n",
    "\n",
    "\n",
    "def R_z2(cb, sb):\n",
    "    R = Matrix([\n",
    "        [cb, -sb, 0],\n",
    "        [sb, cb, 0],\n",
    "        [0, 0, 1]\n",
    "    ])\n",
    "    return R"
   ]
  },
  {
   "cell_type": "code",
   "execution_count": 59,
   "id": "59b8b504",
   "metadata": {},
   "outputs": [
    {
     "data": {
      "text/html": [
       "<html>\\(\\displaystyle \\mathit{cosα}_{1} \\mathit{cosα}_{2} \\mathit{cosα}_{3}\\)</html>"
      ],
      "text/latex": [
       "$\\displaystyle \\mathit{cosα}_{1} \\mathit{cosα}_{2} \\mathit{cosα}_{3}$"
      ],
      "text/plain": [
       "cosα1*cosα2*cosα3"
      ]
     },
     "metadata": {},
     "output_type": "display_data"
    }
   ],
   "source": [
    "n = 3\n",
    "# angles α and β as parameters\n",
    "α_list = list(var(f'α{i}') for i in range(1, n+1))\n",
    "β_list = list(var(f'β{i}') for i in range(1, n+1))\n",
    "RyRz = matrix.identity(3)\n",
    "for i in range(len(α_list)):\n",
    "    RyRz = RyRz * R_y(α_list[i])*R_z(β_list[i])\n",
    "#display(simplify(RyRz * z_hat * z_hat))#.substitute({β_list[i]:0 for i in range(n)})\n",
    "\n",
    "# cos and sin of α and β as parameters\n",
    "# n same as before\n",
    "ca_list = list(var(f'cosα{i}') for i in range(1, n+1))\n",
    "sa_list = list(var(f'sinα{i}') for i in range(1, n+1))\n",
    "cb_list = list(var(f'cosβ{i}') for i in range(1, n+1))\n",
    "sb_list = list(var(f'sinβ{i}') for i in range(1, n+1))\n",
    "RyRz2 = matrix.identity(3)\n",
    "for i in range(len(ca_list)):\n",
    "    RyRz2 = RyRz2 * R_y2(ca_list[i], sa_list[i])*R_z2(cb_list[i], sb_list[i])\n",
    "#display(simplify(RyRz2 * z_hat * z_hat))\n",
    "display(simplify(RyRz2 * z_hat * z_hat)\n",
    "        .substitute({cb_list[i]: 0 for i in range(n)})\n",
    "        .substitute({sb_list[i]: 0 for i in range(n)}))"
   ]
  },
  {
   "cell_type": "code",
   "execution_count": null,
   "id": "7a915893",
   "metadata": {},
   "outputs": [],
   "source": []
  }
 ],
 "metadata": {
  "kernelspec": {
   "display_name": "SageMath 9.6",
   "language": "sage",
   "name": "sagemath"
  },
  "language_info": {
   "codemirror_mode": {
    "name": "ipython",
    "version": 3
   },
   "file_extension": ".py",
   "mimetype": "text/x-python",
   "name": "python",
   "nbconvert_exporter": "python",
   "pygments_lexer": "ipython3",
   "version": "3.10.4"
  }
 },
 "nbformat": 4,
 "nbformat_minor": 5
}
