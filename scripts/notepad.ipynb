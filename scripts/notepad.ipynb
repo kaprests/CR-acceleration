{
 "cells": [
  {
   "cell_type": "code",
   "execution_count": 44,
   "id": "dd92e98a",
   "metadata": {},
   "outputs": [],
   "source": [
    "%display latex\n",
    "γ1 = var('γ1', latex_name = \"\\\\gamma_1\")\n",
    "γ2 = var('γ2', latex_name = \"\\\\gamma_2\")\n",
    "u1 = var('u1', latex_name = \"u_1\")\n",
    "u2 = var('u2', latex_name = \"u_2\")\n",
    "n1 = var('n1', latex_name = \"n_1\")\n",
    "n2 = var('n2', latex_name = \"n_2\")\n",
    "P1 = var('P1', latex_name = \"P_1\")\n",
    "P2 = var('P2', latex_name = \"P_2\")\n",
    "ϵ1 = var('ϵ1', latex_name = \"\\\\epsilon_1\")\n",
    "ϵ2 = var('ϵ2', latex_name = \"\\\\epsilon_2\")\n",
    "\n",
    "γ1 = 1/sqrt(1 - u1**2)\n",
    "γ2 = 1/sqrt(1 - u2**2)"
   ]
  },
  {
   "cell_type": "code",
   "execution_count": 45,
   "id": "aaa7b4d0",
   "metadata": {},
   "outputs": [
    {
     "data": {
      "text/html": [
       "<html>\\[\\newcommand{\\Bold}[1]{\\mathbf{#1}}\\left[\\frac{{n_1} {u_1}}{\\sqrt{-{u_1}^{2} + 1}} = \\frac{{n_2} {u_2}}{\\sqrt{-{u_2}^{2} + 1}}, -\\frac{{\\left({P_1} + {\\epsilon_1}\\right)} {u_1}^{2}}{{u_1}^{2} - 1} + {P_1} = -\\frac{{\\left({P_2} + {\\epsilon_2}\\right)} {u_2}^{2}}{{u_2}^{2} - 1} + {P_2}, -\\frac{{\\left({P_1} + {\\epsilon_1}\\right)} {u_1}}{{u_1}^{2} - 1} = -\\frac{{\\left({P_2} + {\\epsilon_2}\\right)} {u_2}}{{u_2}^{2} - 1}\\right]\\]</html>"
      ],
      "text/latex": [
       "$$\\newcommand{\\Bold}[1]{\\mathbf{#1}}\\left[\\frac{{n_1} {u_1}}{\\sqrt{-{u_1}^{2} + 1}} = \\frac{{n_2} {u_2}}{\\sqrt{-{u_2}^{2} + 1}}, -\\frac{{\\left({P_1} + {\\epsilon_1}\\right)} {u_1}^{2}}{{u_1}^{2} - 1} + {P_1} = -\\frac{{\\left({P_2} + {\\epsilon_2}\\right)} {u_2}^{2}}{{u_2}^{2} - 1} + {P_2}, -\\frac{{\\left({P_1} + {\\epsilon_1}\\right)} {u_1}}{{u_1}^{2} - 1} = -\\frac{{\\left({P_2} + {\\epsilon_2}\\right)} {u_2}}{{u_2}^{2} - 1}\\right]$$"
      ],
      "text/plain": [
       "[n1*u1/sqrt(-u1^2 + 1) == n2*u2/sqrt(-u2^2 + 1),\n",
       " -(P1 + ϵ1)*u1^2/(u1^2 - 1) + P1 == -(P2 + ϵ2)*u2^2/(u2^2 - 1) + P2,\n",
       " -(P1 + ϵ1)*u1/(u1^2 - 1) == -(P2 + ϵ2)*u2/(u2^2 - 1)]"
      ]
     },
     "metadata": {},
     "output_type": "display_data"
    }
   ],
   "source": [
    "equations = [\n",
    "    n1*γ1*u1 == n2*γ2*u2, \n",
    "    (ϵ1 + P1)*(γ1**2)*(u1**2) + P1 == (ϵ2 + P2)*(γ2**2)*(u2**2) + P2,\n",
    "    (ϵ1 + P1)*(γ1**2)*u1 == (ϵ2 + P2)*(γ2**2)*u2\n",
    "]\n",
    "display(equations)"
   ]
  },
  {
   "cell_type": "code",
   "execution_count": null,
   "id": "89052a5f",
   "metadata": {},
   "outputs": [],
   "source": [
    "solve(equations, u1, u2)"
   ]
  },
  {
   "cell_type": "code",
   "execution_count": null,
   "id": "2ba8a9cf",
   "metadata": {},
   "outputs": [],
   "source": []
  },
  {
   "cell_type": "code",
   "execution_count": null,
   "id": "535b2835",
   "metadata": {},
   "outputs": [],
   "source": []
  }
 ],
 "metadata": {
  "kernelspec": {
   "display_name": "SageMath 9.5",
   "language": "sage",
   "name": "sagemath"
  },
  "language_info": {
   "codemirror_mode": {
    "name": "ipython",
    "version": 3
   },
   "file_extension": ".py",
   "mimetype": "text/x-python",
   "name": "python",
   "nbconvert_exporter": "python",
   "pygments_lexer": "ipython3",
   "version": "3.10.4"
  }
 },
 "nbformat": 4,
 "nbformat_minor": 5
}
